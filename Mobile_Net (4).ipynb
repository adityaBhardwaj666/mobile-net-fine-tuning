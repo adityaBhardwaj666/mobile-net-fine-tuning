{
  "nbformat": 4,
  "nbformat_minor": 0,
  "metadata": {
    "colab": {
      "name": "Mobile_Net.ipynb",
      "version": "0.3.2",
      "provenance": [],
      "collapsed_sections": []
    },
    "kernelspec": {
      "name": "python3",
      "display_name": "Python 3"
    },
    "accelerator": "GPU"
  },
  "cells": [
    {
      "cell_type": "code",
      "metadata": {
        "id": "VjNbh5x60lqB",
        "colab_type": "code",
        "outputId": "7ee09d83-0a73-45e3-d16a-ca2a7b3d7712",
        "colab": {
          "base_uri": "https://localhost:8080/",
          "height": 34
        }
      },
      "source": [
        "from google.colab import drive\n",
        "drive.mount('/content/gdrive',force_remount=True)"
      ],
      "execution_count": 2,
      "outputs": [
        {
          "output_type": "stream",
          "text": [
            "Mounted at /content/gdrive\n"
          ],
          "name": "stdout"
        }
      ]
    },
    {
      "cell_type": "code",
      "metadata": {
        "id": "QftltOos03HY",
        "colab_type": "code",
        "outputId": "95450167-3c37-47ad-a7b4-002bb66b3b62",
        "colab": {
          "base_uri": "https://localhost:8080/",
          "height": 34
        }
      },
      "source": [
        "\n",
        "import numpy as np\n",
        "import pandas as pd\n",
        "import os\n",
        "import keras\n",
        "from sklearn.datasets import load_files\n",
        "from keras.utils import np_utils\n",
        "\n",
        "\n",
        "from keras.preprocessing import image\n",
        "from keras.layers import Dense, GlobalAveragePooling2D,Dropout,Input\n",
        "# from keras.layers.advanced_activations import LeakyReLU, ELU\n",
        "from keras.models import Sequential,Model\n",
        "from keras import backend as K\n",
        "from IPython.display import display\n",
        "\n",
        "from keras.preprocessing.image import ImageDataGenerator\n",
        "\n",
        "import glob\n",
        "import cv2\n",
        "from keras.models import Sequential,Input,Model\n",
        "from keras.layers import Dense, Dropout, Flatten\n",
        "from keras.layers import Conv2D, MaxPooling2D\n",
        "from keras.layers.normalization import BatchNormalization\n",
        "from keras.layers.advanced_activations import LeakyReLU\n",
        "import numpy as np\n",
        "import matplotlib\n",
        "import matplotlib.pyplot as plt\n",
        "from keras.models import Sequential,load_model\n",
        "from keras.layers import Dense , Dropout,Activation\n",
        "from keras import layers, optimizers\n",
        "import tensorflow as tf\n",
        "from keras import applications"
      ],
      "execution_count": 1,
      "outputs": [
        {
          "output_type": "stream",
          "text": [
            "Using TensorFlow backend.\n"
          ],
          "name": "stderr"
        }
      ]
    },
    {
      "cell_type": "code",
      "metadata": {
        "id": "ij_YTrw61KhC",
        "colab_type": "code",
        "colab": {}
      },
      "source": [
        "train_datagen = ImageDataGenerator( rescale=1./255,\n",
        "      rotation_range=40,\n",
        "      \n",
        "                               \n",
        "      validation_split=0.20)\n"
      ],
      "execution_count": 0,
      "outputs": []
    },
    {
      "cell_type": "code",
      "metadata": {
        "id": "kVm9zp9o1PR9",
        "colab_type": "code",
        "outputId": "ad933d5f-c740-479e-fc7b-dfe430c0c26b",
        "colab": {
          "base_uri": "https://localhost:8080/",
          "height": 51
        }
      },
      "source": [
        "batch_size=64\n",
        "img_rows=224\n",
        "img_cols=224\n",
        "\n",
        "training_set = train_datagen.flow_from_directory(\"/content/gdrive/My Drive/binary_set\", \n",
        "                                                 target_size = (img_rows,img_cols), \n",
        "                                                 batch_size = batch_size,\n",
        "                                                 \n",
        "                                                 subset=\"training\")\n",
        "\n",
        "\n",
        "test_set = train_datagen.flow_from_directory(\"/content/gdrive/My Drive/binary_set\", \n",
        "                                                 target_size = (img_rows,img_cols),\n",
        "                                                 batch_size = batch_size,\n",
        "                                                \n",
        "                                                 subset='validation')\n",
        "\n",
        "\n",
        "class_weights={\n",
        "    0:2,\n",
        "    1:1\n",
        "}\n",
        "\n"
      ],
      "execution_count": 3,
      "outputs": [
        {
          "output_type": "stream",
          "text": [
            "Found 1926 images belonging to 2 classes.\n",
            "Found 480 images belonging to 2 classes.\n"
          ],
          "name": "stdout"
        }
      ]
    },
    {
      "cell_type": "code",
      "metadata": {
        "id": "njQv4dZruT13",
        "colab_type": "code",
        "colab": {}
      },
      "source": [
        "train_datagen.fit(training_set)"
      ],
      "execution_count": 0,
      "outputs": []
    },
    {
      "cell_type": "code",
      "metadata": {
        "id": "sAJPyE3e1htG",
        "colab_type": "code",
        "outputId": "1a907380-0a4e-4b0d-f446-a9884423df7f",
        "colab": {
          "base_uri": "https://localhost:8080/",
          "height": 34
        }
      },
      "source": [
        "\n",
        "\n",
        "from keras.models import Model\n",
        "from keras.layers import Input\n",
        "from keras.layers.merge import concatenate\n",
        "from keras.layers import GaussianNoise\n",
        "from keras import regularizers\n",
        "\n",
        "visible = Input(shape=(img_rows,img_cols,3))                    #////INPUT\n",
        "''''#visible1 = Input(shape=(img_rows,img_cols,3))                    \n",
        "\n",
        "p_layer1 = ResNet50(weights=None,include_top=False,input_shape=(img_rows,img_cols,3))(visible)\n",
        "flat1= Flatten()(p_layer1)\n",
        "\n",
        "\n",
        "p_layer2 = applications.Xception(weights=None,include_top=False,input_shape=(img_rows, img_cols, 3))(visible)\n",
        "flat2= Flatten()(p_layer2)\n",
        "\n",
        "merge =concatenate([flat1,flat2])              #//// MERGE\n",
        "\n",
        "hidden=Dense(4096,activation='relu')(merge)   # //// INTERPRETATION LAYER\n",
        "#hidden=Dropout(0.5)(hidden)\n",
        "hidden=Dense(4096,activation='relu')(hidden)\n",
        "#hidden=Dropout(0.5)(hidden)\n",
        "hidden=Dense(1000,activation='relu')(hidden)\n",
        "#hidden=Dropout(0.45)(hidden)\n",
        "output=Dense(7,activation='softmax')(hidden)          # /// PREDICTION LAYER\n",
        "\n",
        "\n",
        "base_model = keras.applications.resnet50.ResNet50(include_top=False,weights=None,input_shape=(img_rows,img_cols,3))\n",
        "\n",
        "top_model = Sequential()\n",
        "top_model.add(Flatten())\n",
        "\n",
        "top_model.add(Dense(7,activation='softmax'))\n",
        "\n",
        "model = Model(inputs=[base_model.input], outputs=top_model(base_model.output))\n",
        "\n",
        "\n",
        "'''\n",
        "from keras.applications.inception_v3 import InceptionV3\n",
        "from keras.layers import Dense, GlobalMaxPooling2D\n",
        "from keras import backend as K\n",
        "\n",
        "base_model=keras.applications.mobilenet.MobileNet(include_top=False,weights=None,input_shape=(img_rows,img_cols,3))\n",
        "\n",
        "x=base_model.output\n",
        "x = base_model.layers[-6].output\n",
        "x=GlobalAveragePooling2D()(x)\n",
        "\n",
        "#x=Dense(1024,activation='relu')(x)\n",
        "#x=Dropout(0.48)(x)\n",
        "x=keras.layers.GaussianNoise(0.1)(x)\n",
        "x=Dense(512,activation='relu',kernel_regularizer=regularizers.l2(0.01))(x)\n",
        "\n",
        "x=Dropout(0.3)(x)\n",
        "\n",
        "\n",
        "'''x=Dense(256,activation='relu',kernel_regularizer=regularizers.l2(0.01))(x)\n",
        "x=Dropout(0.3)(x)\n",
        "'''\n",
        "preds=Dense(2,activation='softmax')(x)\n",
        "\n",
        "\n",
        "model = Model(inputs=[base_model.input], outputs=preds)\n",
        "\n",
        "print('Model loaded.')\n",
        "\n",
        "#for layer in base_model.layers:\n",
        " #   layer.trainable = False"
      ],
      "execution_count": 7,
      "outputs": [
        {
          "output_type": "stream",
          "text": [
            "Model loaded.\n"
          ],
          "name": "stdout"
        }
      ]
    },
    {
      "cell_type": "code",
      "metadata": {
        "id": "yQvTTFTn5AiG",
        "colab_type": "code",
        "colab": {}
      },
      "source": [
        "for layer in model.layers[:90]:\n",
        "   layer.trainable = False\n",
        "for layer in model.layers[90:]:\n",
        "   layer.trainable = True"
      ],
      "execution_count": 0,
      "outputs": []
    },
    {
      "cell_type": "code",
      "metadata": {
        "id": "OwRPzMcH16f-",
        "colab_type": "code",
        "colab": {}
      },
      "source": [
        "from keras.metrics import categorical_accuracy, top_k_categorical_accuracy\n",
        "\n",
        "def top_3_accuracy(y_true, y_pred):\n",
        "    return top_k_categorical_accuracy(y_true, y_pred, k=3)\n",
        "\n",
        "def top_2_accuracy(y_true, y_pred):\n",
        "    return top_k_categorical_accuracy(y_true, y_pred, k=2)\n",
        "\n",
        "\n",
        "model.compile(optimizer='adam',\n",
        "              loss='categorical_crossentropy',\n",
        "              metrics=['accuracy'])\n",
        "\n",
        "\n",
        "from keras.utils import plot_model\n",
        "plot_model(model, to_file='fusion1.png')\n"
      ],
      "execution_count": 0,
      "outputs": []
    },
    {
      "cell_type": "code",
      "metadata": {
        "id": "IFA9HXiE7Ymf",
        "colab_type": "code",
        "outputId": "4a8cc66a-5fd9-42f0-c6a4-75c03bcce885",
        "colab": {
          "base_uri": "https://localhost:8080/",
          "height": 904
        }
      },
      "source": [
        "\n",
        "\n",
        "import imageio as im\n",
        "from keras import models\n",
        "from keras.callbacks import ModelCheckpoint,ReduceLROnPlateau\n",
        "\n",
        "\n",
        "\n",
        "\n",
        "call_early=keras.callbacks.EarlyStopping(monitor='val_loss', min_delta=0, patience=6, verbose=1,\n",
        "                                         mode='auto', baseline=None, restore_best_weights=False)\n",
        "\n",
        "\n",
        "reduce_lr = ReduceLROnPlateau(monitor='val_acc', factor=0.5, patience=3,\n",
        "                              verbose=1, mode='max', min_lr=0.00001)\n",
        "\n",
        "checkpointer = ModelCheckpoint(filepath=\"best_weights.hdf5\", \n",
        "                               monitor = 'val_acc',\n",
        "                               verbose=1, \n",
        "                               save_best_only=True)\n",
        "\n",
        "callbacks_list=[checkpointer,reduce_lr,call_early]\n",
        "\n",
        "history=model.fit_generator(training_set,\n",
        "                            steps_per_epoch = training_set.samples // batch_size,\n",
        "                            validation_data = test_set, \n",
        "                            validation_steps = test_set.samples // batch_size,\n",
        "                            callbacks=callbacks_list,\n",
        "                            epochs =35,\n",
        "                            class_weight=class_weights)\n"
      ],
      "execution_count": 11,
      "outputs": [
        {
          "output_type": "stream",
          "text": [
            "Epoch 1/35\n",
            "30/30 [==============================] - 46s 2s/step - loss: 0.7696 - acc: 0.7421 - val_loss: 1.4571 - val_acc: 0.5312\n",
            "\n",
            "Epoch 00001: val_acc improved from -inf to 0.53125, saving model to best_weights.hdf5\n",
            "Epoch 2/35\n",
            "30/30 [==============================] - 43s 1s/step - loss: 0.7445 - acc: 0.7402 - val_loss: 3.1998 - val_acc: 0.4615\n",
            "\n",
            "Epoch 00002: val_acc did not improve from 0.53125\n",
            "Epoch 3/35\n",
            "30/30 [==============================] - 44s 1s/step - loss: 0.7182 - acc: 0.7422 - val_loss: 1.0117 - val_acc: 0.6875\n",
            "\n",
            "Epoch 00003: val_acc improved from 0.53125 to 0.68750, saving model to best_weights.hdf5\n",
            "Epoch 4/35\n",
            "30/30 [==============================] - 43s 1s/step - loss: 0.6756 - acc: 0.7685 - val_loss: 1.1765 - val_acc: 0.6674\n",
            "\n",
            "Epoch 00004: val_acc did not improve from 0.68750\n",
            "Epoch 5/35\n",
            "30/30 [==============================] - 43s 1s/step - loss: 0.6670 - acc: 0.7652 - val_loss: 0.7307 - val_acc: 0.7524\n",
            "\n",
            "Epoch 00005: val_acc improved from 0.68750 to 0.75240, saving model to best_weights.hdf5\n",
            "Epoch 6/35\n",
            "30/30 [==============================] - 42s 1s/step - loss: 0.6618 - acc: 0.7616 - val_loss: 0.6222 - val_acc: 0.7236\n",
            "\n",
            "Epoch 00006: val_acc did not improve from 0.75240\n",
            "Epoch 7/35\n",
            "30/30 [==============================] - 43s 1s/step - loss: 0.6860 - acc: 0.7457 - val_loss: 0.9335 - val_acc: 0.7668\n",
            "\n",
            "Epoch 00007: val_acc improved from 0.75240 to 0.76683, saving model to best_weights.hdf5\n",
            "Epoch 8/35\n",
            "30/30 [==============================] - 43s 1s/step - loss: 0.6592 - acc: 0.7579 - val_loss: 0.9230 - val_acc: 0.7212\n",
            "\n",
            "Epoch 00008: val_acc did not improve from 0.76683\n",
            "Epoch 9/35\n",
            "30/30 [==============================] - 43s 1s/step - loss: 0.7112 - acc: 0.7447 - val_loss: 0.6570 - val_acc: 0.7861\n",
            "\n",
            "Epoch 00009: val_acc improved from 0.76683 to 0.78606, saving model to best_weights.hdf5\n",
            "Epoch 10/35\n",
            "30/30 [==============================] - 43s 1s/step - loss: 0.6894 - acc: 0.7541 - val_loss: 0.9594 - val_acc: 0.6947\n",
            "\n",
            "Epoch 00010: val_acc did not improve from 0.78606\n",
            "Epoch 11/35\n",
            "30/30 [==============================] - 43s 1s/step - loss: 0.7460 - acc: 0.7379 - val_loss: 0.7337 - val_acc: 0.7716\n",
            "\n",
            "Epoch 00011: val_acc did not improve from 0.78606\n",
            "Epoch 12/35\n",
            "30/30 [==============================] - 43s 1s/step - loss: 0.6088 - acc: 0.7977 - val_loss: 0.6816 - val_acc: 0.7143\n",
            "\n",
            "Epoch 00012: val_acc did not improve from 0.78606\n",
            "\n",
            "Epoch 00012: ReduceLROnPlateau reducing learning rate to 0.0005000000237487257.\n",
            "Epoch 00012: early stopping\n"
          ],
          "name": "stdout"
        }
      ]
    },
    {
      "cell_type": "code",
      "metadata": {
        "id": "AV8cmtsciyob",
        "colab_type": "code",
        "colab": {}
      },
      "source": [
        "print(history.history[val_err])"
      ],
      "execution_count": 0,
      "outputs": []
    },
    {
      "cell_type": "code",
      "metadata": {
        "id": "bTNKJWel7eUM",
        "colab_type": "code",
        "outputId": "2df3981a-ff3e-4586-9489-0a773b6ebd09",
        "colab": {
          "base_uri": "https://localhost:8080/",
          "height": 573
        }
      },
      "source": [
        "plt.plot(history.history['acc'])\n",
        "plt.plot(history.history['val_acc'])\n",
        "plt.title('model accuracy')\n",
        "plt.ylabel('accuracy')\n",
        "plt.xlabel('epoch')\n",
        "plt.legend(['train', 'test'], loc='upper left')\n",
        "plt.show()\n",
        "# summarize history for loss\n",
        "plt.plot(history.history['loss'])\n",
        "plt.plot(history.history['val_loss'])\n",
        "plt.title('model loss')\n",
        "plt.ylabel('loss')\n",
        "plt.xlabel('epoch')\n",
        "plt.legend(['train', 'test'], loc='upper left')\n",
        "plt.show()"
      ],
      "execution_count": 17,
      "outputs": [
        {
          "output_type": "display_data",
          "data": {
            "image/png": "[encoded data removed]",
            "text/plain": [
              "<Figure size 432x288 with 1 Axes>"
            ]
          },
          "metadata": {
            "tags": []
          }
        },
        {
          "output_type": "display_data",
          "data": {
            "image/png": "[encoded data removed]",
            "text/plain": [
              "<Figure size 432x288 with 1 Axes>"
            ]
          },
          "metadata": {
            "tags": []
          }
        }
      ]
    },
    {
      "cell_type": "code",
      "metadata": {
        "id": "vnvvjnavZPEU",
        "colab_type": "code",
        "outputId": "2effafcc-bc40-4c93-f9e4-deee8885b16b",
        "colab": {
          "base_uri": "https://localhost:8080/",
          "height": 51
        }
      },
      "source": [
        "scores=model.evaluate_generator(test_set,steps=10)\n",
        "print(scores)\n",
        "\n",
        "scores1=model.evaluate_generator(training_set,steps=10)\n",
        "print(scores1)"
      ],
      "execution_count": 22,
      "outputs": [
        {
          "output_type": "stream",
          "text": [
            "[0.4893279514814678, 0.7861842105263158]\n",
            "[0.4465503864681598, 0.8127147768371293]\n"
          ],
          "name": "stdout"
        }
      ]
    },
    {
      "cell_type": "code",
      "metadata": {
        "id": "8o399J7aZdr7",
        "colab_type": "code",
        "colab": {}
      },
      "source": [
        "model.save(\"mobile_net.h5\")"
      ],
      "execution_count": 0,
      "outputs": []
    },
    {
      "cell_type": "markdown",
      "metadata": {
        "id": "ZmX24T_r-edr",
        "colab_type": "text"
      },
      "source": [
        ""
      ]
    },
    {
      "cell_type": "code",
      "metadata": {
        "id": "04DBcTVHU0N9",
        "colab_type": "code",
        "colab": {}
      },
      "source": [
        "layer_outputs = [layer.output for layer in model.layers[:14]] \n",
        "# Extracts the outputs of the top 12 layers\n",
        "activation_model = models.Model(inputs=model.input, outputs=layer_outputs)\n",
        "\n",
        "img_path =\"/content/gdrive/My Drive/binary_set/MEL/ISIC_0033678.jpg\"\n",
        "img =image.load_img(img_path,target_size=(img_rows, img_cols))\n",
        "img_tensor = image.img_to_array(img)\n",
        "img_tensor = np.expand_dims(img_tensor, axis=0)\n",
        "img_tensor /= 255.\n",
        "plt.imshow(img_tensor[0])\n",
        "plt.show()\n",
        "print(img_tensor.shape)\n",
        "\n",
        "\n",
        "label=(training_set.class_indices)\n",
        "print(label)\n",
        "\n",
        "# predicting images\n",
        "\n",
        "# predicting images\n",
        "x = image.img_to_array(img)\n",
        "x = np.expand_dims(x, axis=0)\n",
        "images = np.vstack([x])\n",
        "classes = model.predict(images, batch_size=64)\n",
        "print(\"Predicted class is:\",classes.argmax(axis=-1))\n",
        "\n",
        "print('**********************************************************')\n",
        "  "
      ],
      "execution_count": 0,
      "outputs": []
    },
    {
      "cell_type": "code",
      "metadata": {
        "id": "CrnE3Xh7gkTC",
        "colab_type": "code",
        "colab": {}
      },
      "source": [
        "from google.colab import files\n",
        "uploaded = files.upload()"
      ],
      "execution_count": 0,
      "outputs": []
    },
    {
      "cell_type": "code",
      "metadata": {
        "id": "PTZfitAiTe5B",
        "colab_type": "code",
        "colab": {}
      },
      "source": [
        "img_path =\"/content/gdrive/My Drive/binary_set/others/ISIC_0024358.jpg\"\n",
        "img =image.load_img(img_path,target_size=(img_rows, img_cols))\n",
        "img_tensor = image.img_to_array(img)\n",
        "img_tensor = np.expand_dims(img_tensor, axis=0)\n",
        "img_tensor/=255.\n",
        "activations = activation_model.predict(img_tensor) \n",
        "\n",
        "first_layer_activation = activations[0]\n",
        "plt.matshow(first_layer_activation[0, :, :, 4], cmap='gray')\n"
      ],
      "execution_count": 0,
      "outputs": []
    },
    {
      "cell_type": "code",
      "metadata": {
        "id": "7QvFU4YcJCtr",
        "colab_type": "code",
        "colab": {}
      },
      "source": [
        "x= base_model.inputs\n",
        "\n",
        "def get_activations(model,model_inputs, print_shape_only=False, layer_name=5):\n",
        "    print('----- activations -----')\n",
        "    activations = []\n",
        "    inp = model.input\n",
        "\n",
        "    model_multi_inputs_cond = True\n",
        "    if not isinstance(inp, list):\n",
        "        # only one input! let's wrap it in a list.\n",
        "        inp = [inp]\n",
        "        model_multi_inputs_cond = False\n",
        "\n",
        "    outputs = [layer.output for layer in model.layers if\n",
        "               layer.name == layer_name or layer_name is None][1:]\n",
        "\n",
        "    funcs = [K.function(inp + [K.learning_phase()], [out]) for out in outputs]  # evaluation functions\n",
        "\n",
        "    if model_multi_inputs_cond:\n",
        "        list_inputs = []\n",
        "        list_inputs.extend(model_inputs)\n",
        "        list_inputs.append(0.)\n",
        "    else:\n",
        "        list_inputs = [model_inputs, 0.]\n",
        "\n",
        "\n",
        "    print(list_inputs)\n",
        "    layer_outputs = [func(list_inputs)[0] for func in funcs]\n",
        "    for layer_activations in layer_outputs:\n",
        "        activations.append(layer_activations)\n",
        "        if print_shape_only:\n",
        "            print(layer_activations.shape)\n",
        "        else:\n",
        "            print(layer_activations)\n",
        "    return activations"
      ],
      "execution_count": 0,
      "outputs": []
    },
    {
      "cell_type": "code",
      "metadata": {
        "id": "GoqOX7rAJgfj",
        "colab_type": "code",
        "outputId": "c5f2fca4-92e4-48d8-b38a-7014978d2a2b",
        "colab": {
          "base_uri": "https://localhost:8080/",
          "height": 68
        }
      },
      "source": [
        "get_activations(base_model,x)"
      ],
      "execution_count": 0,
      "outputs": [
        {
          "output_type": "stream",
          "text": [
            "----- activations -----\n",
            "[[<tf.Tensor 'input_40:0' shape=(?, 224, 224, 3) dtype=float32>], 0.0]\n"
          ],
          "name": "stdout"
        },
        {
          "output_type": "execute_result",
          "data": {
            "text/plain": [
              "[]"
            ]
          },
          "metadata": {
            "tags": []
          },
          "execution_count": 65
        }
      ]
    },
    {
      "cell_type": "code",
      "metadata": {
        "id": "Gv1rhPrBWLGH",
        "colab_type": "code",
        "colab": {}
      },
      "source": [
        "layer_names = []\n",
        "for layer in model.layers[:5]:\n",
        "    layer_names.append(layer.name) # Names of the layers, so you can have them as part of your plot\n",
        "    \n",
        "images_per_row = 16\n",
        "\n",
        "for layer_name, layer_activation in zip(layer_names, activations): # Displays the feature maps\n",
        "    n_features = layer_activation.shape[-1] # Number of features in the feature map\n",
        "    size = layer_activation.shape[1] #The feature map has shape (1, size, size, n_features).\n",
        "    n_cols = n_features // images_per_row # Tiles the activation channels in this matrix\n",
        "    display_grid = np.zeros((size * n_cols, images_per_row * size))\n",
        "    for col in range(n_cols): # Tiles each filter into a big horizontal grid\n",
        "        for row in range(images_per_row):\n",
        "            channel_image = layer_activation[0,\n",
        "                                             :, :,\n",
        "                                             col * images_per_row + row]\n",
        "            channel_image -= channel_image.mean() # Post-processes the feature to make it visually palatable\n",
        "            channel_image /= channel_image.std()\n",
        "            channel_image *= 64\n",
        "            channel_image += 128\n",
        "            channel_image = np.clip(channel_image, 0, 255).astype('uint8')\n",
        "            display_grid[col * size : (col + 1) * size, # Displays the grid\n",
        "                         row * size : (row + 1) * size] = channel_image\n",
        "    scale = 1. / size\n",
        "    plt.figure(figsize=(scale * display_grid.shape[1],\n",
        "                        scale * display_grid.shape[0]))\n",
        "    plt.title(layer_name)\n",
        "    plt.grid(False)\n",
        "    plt.imshow(display_grid, aspect='auto', cmap='gray')"
      ],
      "execution_count": 0,
      "outputs": []
    },
    {
      "cell_type": "code",
      "metadata": {
        "id": "vmKxG-T3XWIV",
        "colab_type": "code",
        "outputId": "fc35f644-66e2-4055-f2a7-eef87eacce4c",
        "colab": {
          "base_uri": "https://localhost:8080/",
          "height": 34
        }
      },
      "source": [
        "test_set.reset()\n",
        "training_set.reset()\n",
        "\n",
        "\"\"\"\"\"pred=model.predict_generator(training_set,\n",
        "                             steps=training_set.samples // batch_size,\n",
        "                             verbose=1)\n",
        "pred = np.argmax(pred, axis=1)\n",
        "\"\"\"\"\"\n",
        "pred1=model.predict_generator(test_set,\n",
        "                             steps=test_set.samples // batch_size,\n",
        "                             verbose=1)\n",
        "pred1 = np.argmax(pred1, axis=1)\n"
      ],
      "execution_count": 23,
      "outputs": [
        {
          "output_type": "stream",
          "text": [
            "7/7 [==============================] - 9s 1s/step\n"
          ],
          "name": "stdout"
        }
      ]
    },
    {
      "cell_type": "code",
      "metadata": {
        "id": "U8vqZkVGCo2t",
        "colab_type": "code",
        "colab": {}
      },
      "source": [
        "print(pred1)"
      ],
      "execution_count": 0,
      "outputs": []
    },
    {
      "cell_type": "code",
      "metadata": {
        "id": "mUtj-cOhZMnb",
        "colab_type": "code",
        "outputId": "1250c6de-4767-4754-f8f0-7b02fd8bd37d",
        "colab": {
          "base_uri": "https://localhost:8080/",
          "height": 204
        }
      },
      "source": [
        "from sklearn.metrics import classification_report\n",
        "print(classification_report(test_set.classes[0:448], pred1,target_names=test_set.class_indices))\n",
        "print('******************************************************************')\n",
        "print('training report')\n",
        "#print(classification_report(training_set.classes[0:6464], pred,target_names=training_set.class_indices))"
      ],
      "execution_count": 24,
      "outputs": [
        {
          "output_type": "stream",
          "text": [
            "              precision    recall  f1-score   support\n",
            "\n",
            "         MEL       0.49      0.58      0.53       222\n",
            "      others       0.50      0.41      0.45       226\n",
            "\n",
            "    accuracy                           0.49       448\n",
            "   macro avg       0.49      0.49      0.49       448\n",
            "weighted avg       0.49      0.49      0.49       448\n",
            "\n",
            "******************************************************************\n",
            "training report\n"
          ],
          "name": "stdout"
        }
      ]
    },
    {
      "cell_type": "code",
      "metadata": {
        "id": "OJH2lnESyJZX",
        "colab_type": "code",
        "colab": {}
      },
      "source": [
        ""
      ],
      "execution_count": 0,
      "outputs": []
    }
  ]
}